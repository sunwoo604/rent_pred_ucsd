{
 "cells": [
  {
   "cell_type": "code",
   "execution_count": 7,
   "metadata": {},
   "outputs": [],
   "source": [
    "import numpy as np\n",
    "import pandas as pd\n",
    "from scipy.stats import f_oneway\n",
    "from sklearn.tree import DecisionTreeRegressor\n",
    "from sklearn.preprocessing import OneHotEncoder\n",
    "from sklearn.model_selection import KFold,train_test_split\n",
    "import matplotlib.pyplot as plt\n",
    "import warnings\n",
    "warnings.filterwarnings(\"ignore\")"
   ]
  },
  {
   "cell_type": "code",
   "execution_count": 8,
   "metadata": {},
   "outputs": [
    {
     "data": {
      "text/html": [
       "<div>\n",
       "<style scoped>\n",
       "    .dataframe tbody tr th:only-of-type {\n",
       "        vertical-align: middle;\n",
       "    }\n",
       "\n",
       "    .dataframe tbody tr th {\n",
       "        vertical-align: top;\n",
       "    }\n",
       "\n",
       "    .dataframe thead th {\n",
       "        text-align: right;\n",
       "    }\n",
       "</style>\n",
       "<table border=\"1\" class=\"dataframe\">\n",
       "  <thead>\n",
       "    <tr style=\"text-align: right;\">\n",
       "      <th></th>\n",
       "      <th>address</th>\n",
       "      <th>city</th>\n",
       "      <th>type</th>\n",
       "      <th>bedroom</th>\n",
       "      <th>bathroom</th>\n",
       "      <th>price</th>\n",
       "    </tr>\n",
       "  </thead>\n",
       "  <tbody>\n",
       "    <tr>\n",
       "      <th>0</th>\n",
       "      <td>8683 Via Mallorca</td>\n",
       "      <td>La Jolla</td>\n",
       "      <td>apartmentComplex</td>\n",
       "      <td>1</td>\n",
       "      <td>NaN</td>\n",
       "      <td>2456</td>\n",
       "    </tr>\n",
       "    <tr>\n",
       "      <th>1</th>\n",
       "      <td>400 Prospect St</td>\n",
       "      <td>La Jolla</td>\n",
       "      <td>apartmentComplex</td>\n",
       "      <td>1</td>\n",
       "      <td>NaN</td>\n",
       "      <td>5599</td>\n",
       "    </tr>\n",
       "    <tr>\n",
       "      <th>2</th>\n",
       "      <td>400 Prospect St</td>\n",
       "      <td>La Jolla</td>\n",
       "      <td>apartmentComplex</td>\n",
       "      <td>2</td>\n",
       "      <td>NaN</td>\n",
       "      <td>6008</td>\n",
       "    </tr>\n",
       "    <tr>\n",
       "      <th>3</th>\n",
       "      <td>7623 Eads Ave #7621-2E</td>\n",
       "      <td>La Jolla</td>\n",
       "      <td>apartmentComplex</td>\n",
       "      <td>1</td>\n",
       "      <td>1.0</td>\n",
       "      <td>2400</td>\n",
       "    </tr>\n",
       "    <tr>\n",
       "      <th>4</th>\n",
       "      <td>8506 Villa La Jolla Dr</td>\n",
       "      <td>La Jolla</td>\n",
       "      <td>apartmentComplex</td>\n",
       "      <td>1</td>\n",
       "      <td>NaN</td>\n",
       "      <td>2665</td>\n",
       "    </tr>\n",
       "  </tbody>\n",
       "</table>\n",
       "</div>"
      ],
      "text/plain": [
       "                  address      city              type  bedroom  bathroom  \\\n",
       "0       8683 Via Mallorca  La Jolla  apartmentComplex        1       NaN   \n",
       "1         400 Prospect St  La Jolla  apartmentComplex        1       NaN   \n",
       "2         400 Prospect St  La Jolla  apartmentComplex        2       NaN   \n",
       "3  7623 Eads Ave #7621-2E  La Jolla  apartmentComplex        1       1.0   \n",
       "4  8506 Villa La Jolla Dr  La Jolla  apartmentComplex        1       NaN   \n",
       "\n",
       "   price  \n",
       "0   2456  \n",
       "1   5599  \n",
       "2   6008  \n",
       "3   2400  \n",
       "4   2665  "
      ]
     },
     "execution_count": 8,
     "metadata": {},
     "output_type": "execute_result"
    }
   ],
   "source": [
    "data = pd.read_csv('data/combined_data.csv',index_col=False)\n",
    "data.head()"
   ]
  },
  {
   "cell_type": "code",
   "execution_count": 9,
   "metadata": {},
   "outputs": [
    {
     "data": {
      "text/html": [
       "<div>\n",
       "<style scoped>\n",
       "    .dataframe tbody tr th:only-of-type {\n",
       "        vertical-align: middle;\n",
       "    }\n",
       "\n",
       "    .dataframe tbody tr th {\n",
       "        vertical-align: top;\n",
       "    }\n",
       "\n",
       "    .dataframe thead th {\n",
       "        text-align: right;\n",
       "    }\n",
       "</style>\n",
       "<table border=\"1\" class=\"dataframe\">\n",
       "  <thead>\n",
       "    <tr style=\"text-align: right;\">\n",
       "      <th></th>\n",
       "      <th>bedroom</th>\n",
       "      <th>bathroom</th>\n",
       "      <th>price</th>\n",
       "    </tr>\n",
       "  </thead>\n",
       "  <tbody>\n",
       "    <tr>\n",
       "      <th>count</th>\n",
       "      <td>613.000000</td>\n",
       "      <td>346.000000</td>\n",
       "      <td>613.000000</td>\n",
       "    </tr>\n",
       "    <tr>\n",
       "      <th>mean</th>\n",
       "      <td>1.933116</td>\n",
       "      <td>1.784682</td>\n",
       "      <td>3993.451876</td>\n",
       "    </tr>\n",
       "    <tr>\n",
       "      <th>std</th>\n",
       "      <td>1.044952</td>\n",
       "      <td>0.789806</td>\n",
       "      <td>4409.925426</td>\n",
       "    </tr>\n",
       "    <tr>\n",
       "      <th>min</th>\n",
       "      <td>0.000000</td>\n",
       "      <td>1.000000</td>\n",
       "      <td>295.000000</td>\n",
       "    </tr>\n",
       "    <tr>\n",
       "      <th>25%</th>\n",
       "      <td>1.000000</td>\n",
       "      <td>1.000000</td>\n",
       "      <td>2595.000000</td>\n",
       "    </tr>\n",
       "    <tr>\n",
       "      <th>50%</th>\n",
       "      <td>2.000000</td>\n",
       "      <td>2.000000</td>\n",
       "      <td>3100.000000</td>\n",
       "    </tr>\n",
       "    <tr>\n",
       "      <th>75%</th>\n",
       "      <td>3.000000</td>\n",
       "      <td>2.000000</td>\n",
       "      <td>4250.000000</td>\n",
       "    </tr>\n",
       "    <tr>\n",
       "      <th>max</th>\n",
       "      <td>5.000000</td>\n",
       "      <td>5.500000</td>\n",
       "      <td>90000.000000</td>\n",
       "    </tr>\n",
       "  </tbody>\n",
       "</table>\n",
       "</div>"
      ],
      "text/plain": [
       "          bedroom    bathroom         price\n",
       "count  613.000000  346.000000    613.000000\n",
       "mean     1.933116    1.784682   3993.451876\n",
       "std      1.044952    0.789806   4409.925426\n",
       "min      0.000000    1.000000    295.000000\n",
       "25%      1.000000    1.000000   2595.000000\n",
       "50%      2.000000    2.000000   3100.000000\n",
       "75%      3.000000    2.000000   4250.000000\n",
       "max      5.000000    5.500000  90000.000000"
      ]
     },
     "execution_count": 9,
     "metadata": {},
     "output_type": "execute_result"
    }
   ],
   "source": [
    "data.describe()"
   ]
  },
  {
   "cell_type": "markdown",
   "metadata": {},
   "source": [
    "Check the dependent variables are actually meaningful"
   ]
  },
  {
   "cell_type": "code",
   "execution_count": 10,
   "metadata": {},
   "outputs": [],
   "source": [
    "prices = []\n",
    "for c,df in data.groupby('city'):\n",
    "    prices += [list(df['price'])]"
   ]
  },
  {
   "cell_type": "code",
   "execution_count": 11,
   "metadata": {},
   "outputs": [
    {
     "data": {
      "text/plain": [
       "F_onewayResult(statistic=6.948583861205586, pvalue=4.110488789394614e-11)"
      ]
     },
     "execution_count": 11,
     "metadata": {},
     "output_type": "execute_result"
    }
   ],
   "source": [
    "f_oneway(prices[0],prices[1],prices[2],prices[3],prices[4],prices[5],prices[6],prices[7],prices[8],prices[9],prices[10],prices[11])"
   ]
  },
  {
   "cell_type": "code",
   "execution_count": 12,
   "metadata": {},
   "outputs": [
    {
     "name": "stdout",
     "output_type": "stream",
     "text": [
      "0\n",
      "1\n",
      "2\n",
      "3\n",
      "4\n",
      "5\n"
     ]
    }
   ],
   "source": [
    "prices = []\n",
    "for c,df in data.groupby('bedroom'):\n",
    "    print(c)\n",
    "    prices += [list(df['price'])]"
   ]
  },
  {
   "cell_type": "code",
   "execution_count": 13,
   "metadata": {},
   "outputs": [
    {
     "data": {
      "text/plain": [
       "F_onewayResult(statistic=28.703424407504034, pvalue=3.6260545675181526e-26)"
      ]
     },
     "execution_count": 13,
     "metadata": {},
     "output_type": "execute_result"
    }
   ],
   "source": [
    "f_oneway(prices[0],prices[1],prices[2],prices[3],prices[4],prices[5])"
   ]
  },
  {
   "cell_type": "code",
   "execution_count": 14,
   "metadata": {},
   "outputs": [
    {
     "data": {
      "text/plain": [
       "type\n",
       "apartmentComplex    474\n",
       "unknown               7\n",
       "Name: count, dtype: int64"
      ]
     },
     "execution_count": 14,
     "metadata": {},
     "output_type": "execute_result"
    }
   ],
   "source": [
    "data['type'].value_counts()"
   ]
  },
  {
   "cell_type": "code",
   "execution_count": 15,
   "metadata": {},
   "outputs": [
    {
     "data": {
      "text/plain": [
       "bathroom\n",
       "1.0    135\n",
       "2.0    124\n",
       "2.5     32\n",
       "3.0     25\n",
       "1.5     16\n",
       "3.5      7\n",
       "4.0      4\n",
       "5.5      1\n",
       "4.5      1\n",
       "5.0      1\n",
       "Name: count, dtype: int64"
      ]
     },
     "execution_count": 15,
     "metadata": {},
     "output_type": "execute_result"
    }
   ],
   "source": [
    "data['bathroom'].value_counts()"
   ]
  },
  {
   "cell_type": "markdown",
   "metadata": {},
   "source": [
    "Compare bedroom and bathroom to fill missing bathroom"
   ]
  },
  {
   "cell_type": "code",
   "execution_count": 16,
   "metadata": {},
   "outputs": [
    {
     "data": {
      "text/plain": [
       "0.4355628058727569"
      ]
     },
     "execution_count": 16,
     "metadata": {},
     "output_type": "execute_result"
    }
   ],
   "source": [
    "data['bathroom'].isna().mean()"
   ]
  },
  {
   "cell_type": "code",
   "execution_count": 17,
   "metadata": {},
   "outputs": [
    {
     "data": {
      "text/plain": [
       "<matplotlib.collections.PathCollection at 0x7f8b48ca44f0>"
      ]
     },
     "execution_count": 17,
     "metadata": {},
     "output_type": "execute_result"
    },
    {
     "data": {
      "image/png": "[encoded data removed]",
      "text/plain": [
       "<Figure size 640x480 with 1 Axes>"
      ]
     },
     "metadata": {},
     "output_type": "display_data"
    }
   ],
   "source": [
    "with_bath = data[data['bathroom'].isna() == False]\n",
    "plt.scatter(with_bath['bedroom'],with_bath['bathroom'])"
   ]
  },
  {
   "cell_type": "code",
   "execution_count": 18,
   "metadata": {},
   "outputs": [
    {
     "data": {
      "text/plain": [
       "0.44653179190751446"
      ]
     },
     "execution_count": 18,
     "metadata": {},
     "output_type": "execute_result"
    }
   ],
   "source": [
    "(with_bath['bedroom']-with_bath['bathroom']).mean()"
   ]
  },
  {
   "cell_type": "code",
   "execution_count": 19,
   "metadata": {},
   "outputs": [
    {
     "name": "stdout",
     "output_type": "stream",
     "text": [
      "0 bedroom: \n",
      "average of 1.0 bathroom: \n",
      "1 bedroom: \n",
      "average of 1.0063291139240507 bathroom: \n",
      "2 bedroom: \n",
      "average of 1.668141592920354 bathroom: \n",
      "3 bedroom: \n",
      "average of 2.2074468085106385 bathroom: \n",
      "4 bedroom: \n",
      "average of 2.8625 bathroom: \n",
      "5 bedroom: \n",
      "average of 2.5 bathroom: \n"
     ]
    }
   ],
   "source": [
    "bed_to_bath = {}\n",
    "for i in sorted(with_bath['bedroom'].unique()):\n",
    "    df=with_bath[with_bath['bedroom'] == i]\n",
    "    print(\"{} bedroom: \".format(i))\n",
    "    print(\"average of {} bathroom: \".format(df['bathroom'].mean()))\n",
    "    bed_to_bath[i] = df['bathroom'].mean()"
   ]
  },
  {
   "cell_type": "code",
   "execution_count": 20,
   "metadata": {},
   "outputs": [],
   "source": [
    "def round_to_half(num):\n",
    "    num = num*2\n",
    "    return round(num)/2"
   ]
  },
  {
   "cell_type": "code",
   "execution_count": 21,
   "metadata": {},
   "outputs": [],
   "source": [
    "for k in bed_to_bath:\n",
    "    bed_to_bath[k] = round_to_half(bed_to_bath[k])"
   ]
  },
  {
   "cell_type": "code",
   "execution_count": 22,
   "metadata": {},
   "outputs": [
    {
     "data": {
      "text/html": [
       "<div>\n",
       "<style scoped>\n",
       "    .dataframe tbody tr th:only-of-type {\n",
       "        vertical-align: middle;\n",
       "    }\n",
       "\n",
       "    .dataframe tbody tr th {\n",
       "        vertical-align: top;\n",
       "    }\n",
       "\n",
       "    .dataframe thead th {\n",
       "        text-align: right;\n",
       "    }\n",
       "</style>\n",
       "<table border=\"1\" class=\"dataframe\">\n",
       "  <thead>\n",
       "    <tr style=\"text-align: right;\">\n",
       "      <th></th>\n",
       "      <th>address</th>\n",
       "      <th>city</th>\n",
       "      <th>type</th>\n",
       "      <th>bedroom</th>\n",
       "      <th>bathroom</th>\n",
       "      <th>price</th>\n",
       "    </tr>\n",
       "  </thead>\n",
       "  <tbody>\n",
       "    <tr>\n",
       "      <th>0</th>\n",
       "      <td>8683 Via Mallorca</td>\n",
       "      <td>La Jolla</td>\n",
       "      <td>apartmentComplex</td>\n",
       "      <td>1</td>\n",
       "      <td>1.0</td>\n",
       "      <td>2456</td>\n",
       "    </tr>\n",
       "    <tr>\n",
       "      <th>1</th>\n",
       "      <td>400 Prospect St</td>\n",
       "      <td>La Jolla</td>\n",
       "      <td>apartmentComplex</td>\n",
       "      <td>1</td>\n",
       "      <td>1.0</td>\n",
       "      <td>5599</td>\n",
       "    </tr>\n",
       "    <tr>\n",
       "      <th>2</th>\n",
       "      <td>400 Prospect St</td>\n",
       "      <td>La Jolla</td>\n",
       "      <td>apartmentComplex</td>\n",
       "      <td>2</td>\n",
       "      <td>1.5</td>\n",
       "      <td>6008</td>\n",
       "    </tr>\n",
       "    <tr>\n",
       "      <th>3</th>\n",
       "      <td>7623 Eads Ave #7621-2E</td>\n",
       "      <td>La Jolla</td>\n",
       "      <td>apartmentComplex</td>\n",
       "      <td>1</td>\n",
       "      <td>1.0</td>\n",
       "      <td>2400</td>\n",
       "    </tr>\n",
       "    <tr>\n",
       "      <th>4</th>\n",
       "      <td>8506 Villa La Jolla Dr</td>\n",
       "      <td>La Jolla</td>\n",
       "      <td>apartmentComplex</td>\n",
       "      <td>1</td>\n",
       "      <td>1.0</td>\n",
       "      <td>2665</td>\n",
       "    </tr>\n",
       "  </tbody>\n",
       "</table>\n",
       "</div>"
      ],
      "text/plain": [
       "                  address      city              type  bedroom  bathroom  \\\n",
       "0       8683 Via Mallorca  La Jolla  apartmentComplex        1       1.0   \n",
       "1         400 Prospect St  La Jolla  apartmentComplex        1       1.0   \n",
       "2         400 Prospect St  La Jolla  apartmentComplex        2       1.5   \n",
       "3  7623 Eads Ave #7621-2E  La Jolla  apartmentComplex        1       1.0   \n",
       "4  8506 Villa La Jolla Dr  La Jolla  apartmentComplex        1       1.0   \n",
       "\n",
       "   price  \n",
       "0   2456  \n",
       "1   5599  \n",
       "2   6008  \n",
       "3   2400  \n",
       "4   2665  "
      ]
     },
     "execution_count": 22,
     "metadata": {},
     "output_type": "execute_result"
    }
   ],
   "source": [
    "bath_filled = data.copy()\n",
    "def bath_fill(row):\n",
    "    if np.isnan(row['bathroom']):\n",
    "        row['bathroom'] = bed_to_bath[row['bedroom']]\n",
    "    return row\n",
    "bath_filled = bath_filled.apply(bath_fill,axis=1)\n",
    "bath_filled.head()"
   ]
  },
  {
   "cell_type": "code",
   "execution_count": 23,
   "metadata": {},
   "outputs": [],
   "source": [
    "def RMSE(obs, pred):\n",
    "    return ((obs-pred)**2).mean()**0.5"
   ]
  },
  {
   "cell_type": "code",
   "execution_count": 24,
   "metadata": {},
   "outputs": [],
   "source": [
    "def MAE(obs, pred):\n",
    "    return abs(obs-pred).mean()"
   ]
  },
  {
   "cell_type": "markdown",
   "metadata": {},
   "source": [
    "Case 1: Use city(one hot encoding), bedroom, and bathroom(filled) as a variable for decision tree"
   ]
  },
  {
   "cell_type": "code",
   "execution_count": 23,
   "metadata": {},
   "outputs": [],
   "source": [
    "case1 = bath_filled.drop(['address','type'],axis=1)\n",
    "case1_y = case1['price']\n",
    "case1_x = case1.drop(['price'],axis=1)"
   ]
  },
  {
   "cell_type": "code",
   "execution_count": 24,
   "metadata": {},
   "outputs": [
    {
     "name": "stdout",
     "output_type": "stream",
     "text": [
      "[array(['Bay Ho', 'Clairemont Mesa East', 'Clairemont Mesa West',\n",
      "       'Del Mar Heights', 'Kearny Mesa', 'La Jolla', 'Linda Vista',\n",
      "       'Mira Mesa', 'North Clairemont', 'Pacific Beach',\n",
      "       'Sorrento Valley', 'University City'], dtype=object)]\n"
     ]
    }
   ],
   "source": [
    "city_enc = OneHotEncoder(handle_unknown='ignore')\n",
    "city_enc.fit(case1_x[['city']])\n",
    "print(city_enc.categories_)\n",
    "city_coded = city_enc.transform(case1_x[['city']]).toarray()"
   ]
  },
  {
   "cell_type": "code",
   "execution_count": 25,
   "metadata": {},
   "outputs": [],
   "source": [
    "for i,c in enumerate(city_enc.categories_[0]):\n",
    "    case1_x[c] = city_coded[:,i]"
   ]
  },
  {
   "cell_type": "code",
   "execution_count": 23,
   "metadata": {},
   "outputs": [
    {
     "data": {
      "text/html": [
       "<div>\n",
       "<style scoped>\n",
       "    .dataframe tbody tr th:only-of-type {\n",
       "        vertical-align: middle;\n",
       "    }\n",
       "\n",
       "    .dataframe tbody tr th {\n",
       "        vertical-align: top;\n",
       "    }\n",
       "\n",
       "    .dataframe thead th {\n",
       "        text-align: right;\n",
       "    }\n",
       "</style>\n",
       "<table border=\"1\" class=\"dataframe\">\n",
       "  <thead>\n",
       "    <tr style=\"text-align: right;\">\n",
       "      <th></th>\n",
       "      <th>bedroom</th>\n",
       "      <th>bathroom</th>\n",
       "      <th>Bay Ho</th>\n",
       "      <th>Clairemont Mesa East</th>\n",
       "      <th>Clairemont Mesa West</th>\n",
       "      <th>Del Mar Heights</th>\n",
       "      <th>Kearny Mesa</th>\n",
       "      <th>La Jolla</th>\n",
       "      <th>Linda Vista</th>\n",
       "      <th>Mira Mesa</th>\n",
       "      <th>North Clairemont</th>\n",
       "      <th>Pacific Beach</th>\n",
       "      <th>Sorrento Valley</th>\n",
       "      <th>University City</th>\n",
       "    </tr>\n",
       "  </thead>\n",
       "  <tbody>\n",
       "    <tr>\n",
       "      <th>0</th>\n",
       "      <td>1</td>\n",
       "      <td>1.0</td>\n",
       "      <td>0.0</td>\n",
       "      <td>0.0</td>\n",
       "      <td>0.0</td>\n",
       "      <td>0.0</td>\n",
       "      <td>0.0</td>\n",
       "      <td>1.0</td>\n",
       "      <td>0.0</td>\n",
       "      <td>0.0</td>\n",
       "      <td>0.0</td>\n",
       "      <td>0.0</td>\n",
       "      <td>0.0</td>\n",
       "      <td>0.0</td>\n",
       "    </tr>\n",
       "    <tr>\n",
       "      <th>1</th>\n",
       "      <td>1</td>\n",
       "      <td>1.0</td>\n",
       "      <td>0.0</td>\n",
       "      <td>0.0</td>\n",
       "      <td>0.0</td>\n",
       "      <td>0.0</td>\n",
       "      <td>0.0</td>\n",
       "      <td>1.0</td>\n",
       "      <td>0.0</td>\n",
       "      <td>0.0</td>\n",
       "      <td>0.0</td>\n",
       "      <td>0.0</td>\n",
       "      <td>0.0</td>\n",
       "      <td>0.0</td>\n",
       "    </tr>\n",
       "    <tr>\n",
       "      <th>2</th>\n",
       "      <td>2</td>\n",
       "      <td>1.5</td>\n",
       "      <td>0.0</td>\n",
       "      <td>0.0</td>\n",
       "      <td>0.0</td>\n",
       "      <td>0.0</td>\n",
       "      <td>0.0</td>\n",
       "      <td>1.0</td>\n",
       "      <td>0.0</td>\n",
       "      <td>0.0</td>\n",
       "      <td>0.0</td>\n",
       "      <td>0.0</td>\n",
       "      <td>0.0</td>\n",
       "      <td>0.0</td>\n",
       "    </tr>\n",
       "    <tr>\n",
       "      <th>3</th>\n",
       "      <td>1</td>\n",
       "      <td>1.0</td>\n",
       "      <td>0.0</td>\n",
       "      <td>0.0</td>\n",
       "      <td>0.0</td>\n",
       "      <td>0.0</td>\n",
       "      <td>0.0</td>\n",
       "      <td>1.0</td>\n",
       "      <td>0.0</td>\n",
       "      <td>0.0</td>\n",
       "      <td>0.0</td>\n",
       "      <td>0.0</td>\n",
       "      <td>0.0</td>\n",
       "      <td>0.0</td>\n",
       "    </tr>\n",
       "    <tr>\n",
       "      <th>4</th>\n",
       "      <td>1</td>\n",
       "      <td>1.0</td>\n",
       "      <td>0.0</td>\n",
       "      <td>0.0</td>\n",
       "      <td>0.0</td>\n",
       "      <td>0.0</td>\n",
       "      <td>0.0</td>\n",
       "      <td>1.0</td>\n",
       "      <td>0.0</td>\n",
       "      <td>0.0</td>\n",
       "      <td>0.0</td>\n",
       "      <td>0.0</td>\n",
       "      <td>0.0</td>\n",
       "      <td>0.0</td>\n",
       "    </tr>\n",
       "  </tbody>\n",
       "</table>\n",
       "</div>"
      ],
      "text/plain": [
       "   bedroom  bathroom  Bay Ho  Clairemont Mesa East  Clairemont Mesa West  \\\n",
       "0        1       1.0     0.0                   0.0                   0.0   \n",
       "1        1       1.0     0.0                   0.0                   0.0   \n",
       "2        2       1.5     0.0                   0.0                   0.0   \n",
       "3        1       1.0     0.0                   0.0                   0.0   \n",
       "4        1       1.0     0.0                   0.0                   0.0   \n",
       "\n",
       "   Del Mar Heights  Kearny Mesa  La Jolla  Linda Vista  Mira Mesa  \\\n",
       "0              0.0          0.0       1.0          0.0        0.0   \n",
       "1              0.0          0.0       1.0          0.0        0.0   \n",
       "2              0.0          0.0       1.0          0.0        0.0   \n",
       "3              0.0          0.0       1.0          0.0        0.0   \n",
       "4              0.0          0.0       1.0          0.0        0.0   \n",
       "\n",
       "   North Clairemont  Pacific Beach  Sorrento Valley  University City  \n",
       "0               0.0            0.0              0.0              0.0  \n",
       "1               0.0            0.0              0.0              0.0  \n",
       "2               0.0            0.0              0.0              0.0  \n",
       "3               0.0            0.0              0.0              0.0  \n",
       "4               0.0            0.0              0.0              0.0  "
      ]
     },
     "execution_count": 23,
     "metadata": {},
     "output_type": "execute_result"
    }
   ],
   "source": [
    "case1_x = case1_x.drop(['city'],axis=1)\n",
    "case1_x.head()"
   ]
  },
  {
   "cell_type": "code",
   "execution_count": 24,
   "metadata": {},
   "outputs": [
    {
     "name": "stdout",
     "output_type": "stream",
     "text": [
      "Max depth with :2\n",
      "average MAE: 1415.9604379882003\n",
      "average RMSE: 3169.2376953300686\n",
      "Max depth with :3\n",
      "average MAE: 1226.9863835334222\n",
      "average RMSE: 3025.271163767407\n",
      "Max depth with :4\n",
      "average MAE: 1152.0544918905327\n",
      "average RMSE: 2951.240819209202\n",
      "Max depth with :5\n",
      "average MAE: 1116.9759415336293\n",
      "average RMSE: 2945.0143058827716\n",
      "Max depth with :6\n",
      "average MAE: 1083.5756037384813\n",
      "average RMSE: 2923.6628047791028\n",
      "Max depth with :7\n",
      "average MAE: 1085.8425905692445\n",
      "average RMSE: 2929.049728984385\n",
      "Max depth with :8\n",
      "average MAE: 1090.3348509718458\n",
      "average RMSE: 2932.683770509153\n",
      "Max depth with :9\n",
      "average MAE: 1090.764906110967\n",
      "average RMSE: 2921.692473624748\n"
     ]
    }
   ],
   "source": [
    "kf = KFold(n_splits=5)\n",
    "for d in [2,3,4,5,6,7,8,9]:\n",
    "    MAES = []\n",
    "    RMSES = []\n",
    "    print(\"Max depth with :{}\".format(d))\n",
    "    for i, (train_index, test_index) in enumerate(kf.split(case1_x)):\n",
    "        train_X = case1_x.loc[train_index]\n",
    "        train_y = case1_y.loc[train_index]\n",
    "        test_X = case1_x.loc[test_index]\n",
    "        test_y = case1_y.loc[test_index]\n",
    "        tree = DecisionTreeRegressor(max_depth = d)\n",
    "        tree.fit(train_X ,train_y)\n",
    "        pred = tree.predict(test_X)\n",
    "        MAES += [MAE(pred, test_y)]\n",
    "        RMSES += [RMSE(pred, test_y)]\n",
    "    print('average MAE: {}'.format(np.mean(MAES)))\n",
    "    print('average RMSE: {}'.format(np.mean(RMSES)))"
   ]
  },
  {
   "cell_type": "markdown",
   "metadata": {},
   "source": [
    "Case 2: Use bedroom, and bathroom(filled) as a variable for decision tree"
   ]
  },
  {
   "cell_type": "code",
   "execution_count": 25,
   "metadata": {},
   "outputs": [],
   "source": [
    "case2 = bath_filled.drop(['city','address','type'],axis=1)\n",
    "case2_y = case2['price']\n",
    "case2_x = case2.drop(['price'],axis=1)"
   ]
  },
  {
   "cell_type": "code",
   "execution_count": 26,
   "metadata": {},
   "outputs": [
    {
     "data": {
      "text/html": [
       "<div>\n",
       "<style scoped>\n",
       "    .dataframe tbody tr th:only-of-type {\n",
       "        vertical-align: middle;\n",
       "    }\n",
       "\n",
       "    .dataframe tbody tr th {\n",
       "        vertical-align: top;\n",
       "    }\n",
       "\n",
       "    .dataframe thead th {\n",
       "        text-align: right;\n",
       "    }\n",
       "</style>\n",
       "<table border=\"1\" class=\"dataframe\">\n",
       "  <thead>\n",
       "    <tr style=\"text-align: right;\">\n",
       "      <th></th>\n",
       "      <th>bedroom</th>\n",
       "      <th>bathroom</th>\n",
       "    </tr>\n",
       "  </thead>\n",
       "  <tbody>\n",
       "    <tr>\n",
       "      <th>0</th>\n",
       "      <td>1</td>\n",
       "      <td>1.0</td>\n",
       "    </tr>\n",
       "    <tr>\n",
       "      <th>1</th>\n",
       "      <td>1</td>\n",
       "      <td>1.0</td>\n",
       "    </tr>\n",
       "    <tr>\n",
       "      <th>2</th>\n",
       "      <td>2</td>\n",
       "      <td>1.5</td>\n",
       "    </tr>\n",
       "    <tr>\n",
       "      <th>3</th>\n",
       "      <td>1</td>\n",
       "      <td>1.0</td>\n",
       "    </tr>\n",
       "    <tr>\n",
       "      <th>4</th>\n",
       "      <td>1</td>\n",
       "      <td>1.0</td>\n",
       "    </tr>\n",
       "  </tbody>\n",
       "</table>\n",
       "</div>"
      ],
      "text/plain": [
       "   bedroom  bathroom\n",
       "0        1       1.0\n",
       "1        1       1.0\n",
       "2        2       1.5\n",
       "3        1       1.0\n",
       "4        1       1.0"
      ]
     },
     "execution_count": 26,
     "metadata": {},
     "output_type": "execute_result"
    }
   ],
   "source": [
    "case2_x.head()"
   ]
  },
  {
   "cell_type": "code",
   "execution_count": 27,
   "metadata": {},
   "outputs": [
    {
     "name": "stdout",
     "output_type": "stream",
     "text": [
      "Max depth with :2\n",
      "average MAE: 1415.9604379882003\n",
      "average RMSE: 3169.2376953300686\n",
      "Max depth with :3\n",
      "average MAE: 1196.2811714227344\n",
      "average RMSE: 2981.039006680804\n",
      "Max depth with :4\n",
      "average MAE: 1123.7946714239124\n",
      "average RMSE: 2877.5459440306327\n",
      "Max depth with :5\n",
      "average MAE: 1144.0674967439893\n",
      "average RMSE: 2919.1426547581905\n",
      "Max depth with :6\n",
      "average MAE: 1164.8334914393372\n",
      "average RMSE: 2986.674387250143\n",
      "Max depth with :7\n",
      "average MAE: 1167.2570288584186\n",
      "average RMSE: 2990.7249126974557\n",
      "Max depth with :8\n",
      "average MAE: 1167.4213122584558\n",
      "average RMSE: 2990.6386819678846\n",
      "Max depth with :9\n",
      "average MAE: 1167.4213122584558\n",
      "average RMSE: 2990.6386819678846\n"
     ]
    }
   ],
   "source": [
    "kf = KFold(n_splits=5)\n",
    "for d in [2,3,4,5,6,7,8,9]:\n",
    "    MAES = []\n",
    "    RMSES = []\n",
    "    print(\"Max depth with :{}\".format(d))\n",
    "    for i, (train_index, test_index) in enumerate(kf.split(case1_x)):\n",
    "        train_X = case2_x.loc[train_index]\n",
    "        train_y = case2_y.loc[train_index]\n",
    "        test_X = case2_x.loc[test_index]\n",
    "        test_y = case2_y.loc[test_index]\n",
    "        tree = DecisionTreeRegressor(max_depth = d)\n",
    "        tree.fit(train_X ,train_y)\n",
    "        pred = tree.predict(test_X)\n",
    "        MAES += [MAE(pred, test_y)]\n",
    "        RMSES += [RMSE(pred, test_y)]\n",
    "    print('average MAE: {}'.format(np.mean(MAES)))\n",
    "    print('average RMSE: {}'.format(np.mean(RMSES)))"
   ]
  },
  {
   "cell_type": "markdown",
   "metadata": {},
   "source": [
    "Case 3: Use City(one hot encoded), bedroom, and bathroom(filled) as a variable for random forest"
   ]
  },
  {
   "cell_type": "code",
   "execution_count": 32,
   "metadata": {},
   "outputs": [
    {
     "name": "stdout",
     "output_type": "stream",
     "text": [
      "[array(['Bay Ho', 'Clairemont Mesa East', 'Clairemont Mesa West',\n",
      "       'Del Mar Heights', 'Kearny Mesa', 'La Jolla', 'Linda Vista',\n",
      "       'Mira Mesa', 'North Clairemont', 'Pacific Beach',\n",
      "       'Sorrento Valley', 'University City'], dtype=object)]\n"
     ]
    }
   ],
   "source": [
    "case3 = bath_filled.drop(['address','type'],axis=1)\n",
    "case3_y = case3['price']\n",
    "case3_x = case3.drop(['price'],axis=1)\n",
    "city_enc = OneHotEncoder(handle_unknown='ignore')\n",
    "city_enc.fit(case3_x[['city']])\n",
    "print(city_enc.categories_)\n",
    "city_coded = city_enc.transform(case3_x[['city']]).toarray()\n",
    "for i,c in enumerate(city_enc.categories_[0]):\n",
    "    case3_x[c] = city_coded[:,i]\n",
    "case3_x = case3_x.drop(['city'],axis=1)"
   ]
  },
  {
   "cell_type": "code",
   "execution_count": 2,
   "metadata": {},
   "outputs": [],
   "source": [
    "from sklearn.ensemble import RandomForestRegressor"
   ]
  },
  {
   "cell_type": "code",
   "execution_count": 34,
   "metadata": {},
   "outputs": [
    {
     "name": "stdout",
     "output_type": "stream",
     "text": [
      "Max depth 2 with criterion of squared_error\n",
      "average MAE: 1212.3025868382865\n",
      "average RMSE: 2649.887532934225\n",
      "Max depth 2 with criterion of absolute_error\n",
      "average MAE: 1089.4766307477007\n",
      "average RMSE: 2713.9977144663926\n",
      "Max depth 2 with criterion of friedman_mse\n",
      "average MAE: 1200.6843784950697\n",
      "average RMSE: 2634.0088404321286\n",
      "Max depth 2 with criterion of poisson\n",
      "average MAE: 1130.3503730892376\n",
      "average RMSE: 2629.514004513011\n",
      "Max depth 3 with criterion of squared_error\n",
      "average MAE: 1069.261912963718\n",
      "average RMSE: 2456.998996631067\n",
      "Max depth 3 with criterion of absolute_error\n",
      "average MAE: 1023.0888185392508\n",
      "average RMSE: 2483.2030922015156\n",
      "Max depth 3 with criterion of friedman_mse\n",
      "average MAE: 1080.1114939834144\n",
      "average RMSE: 2523.9666502454315\n",
      "Max depth 3 with criterion of poisson\n",
      "average MAE: 1065.1274677429005\n",
      "average RMSE: 2595.639701822818\n",
      "Max depth 4 with criterion of squared_error\n",
      "average MAE: 1035.5690586767482\n",
      "average RMSE: 2517.7233395312746\n",
      "Max depth 4 with criterion of absolute_error\n",
      "average MAE: 1017.7644045048646\n",
      "average RMSE: 2509.4770150181052\n",
      "Max depth 4 with criterion of friedman_mse\n",
      "average MAE: 1034.0556343515298\n",
      "average RMSE: 2545.29210379654\n",
      "Max depth 4 with criterion of poisson\n",
      "average MAE: 1050.6209593096953\n",
      "average RMSE: 2707.2581834972375\n",
      "Max depth 5 with criterion of squared_error\n",
      "average MAE: 1021.2458255523012\n",
      "average RMSE: 2546.5395157753\n",
      "Max depth 5 with criterion of absolute_error\n",
      "average MAE: 1023.073269025723\n",
      "average RMSE: 2590.071803528811\n",
      "Max depth 5 with criterion of friedman_mse\n",
      "average MAE: 1005.6046558532547\n",
      "average RMSE: 2451.451388700284\n",
      "Max depth 5 with criterion of poisson\n",
      "average MAE: 1024.1142925922582\n",
      "average RMSE: 2560.7529688759314\n",
      "Max depth 6 with criterion of squared_error\n",
      "average MAE: 998.3900240772102\n",
      "average RMSE: 2501.4005024393387\n",
      "Max depth 6 with criterion of absolute_error\n",
      "average MAE: 1002.9261107556977\n",
      "average RMSE: 2499.6151611071587\n",
      "Max depth 6 with criterion of friedman_mse\n",
      "average MAE: 1015.409123431447\n",
      "average RMSE: 2587.1383245195816\n",
      "Max depth 6 with criterion of poisson\n",
      "average MAE: 1003.9700752405321\n",
      "average RMSE: 2514.9556380224262\n",
      "Max depth 7 with criterion of squared_error\n",
      "average MAE: 990.1539188328877\n",
      "average RMSE: 2456.4364433071446\n",
      "Max depth 7 with criterion of absolute_error\n",
      "average MAE: 988.9868220711717\n",
      "average RMSE: 2527.2726842713837\n",
      "Max depth 7 with criterion of friedman_mse\n",
      "average MAE: 983.9027068718991\n",
      "average RMSE: 2425.482546193237\n",
      "Max depth 7 with criterion of poisson\n",
      "average MAE: 988.0362285176932\n",
      "average RMSE: 2488.0695466167667\n",
      "Max depth 8 with criterion of squared_error\n",
      "average MAE: 990.1601105542941\n",
      "average RMSE: 2535.8485314354975\n",
      "Max depth 8 with criterion of absolute_error\n",
      "average MAE: 995.9128476609355\n",
      "average RMSE: 2647.4832637431728\n",
      "Max depth 8 with criterion of friedman_mse\n",
      "average MAE: 990.4901130099358\n",
      "average RMSE: 2573.576175773001\n",
      "Max depth 8 with criterion of poisson\n",
      "average MAE: 980.9849820809548\n",
      "average RMSE: 2510.35306785695\n",
      "Max depth 9 with criterion of squared_error\n",
      "average MAE: 976.552513941492\n",
      "average RMSE: 2512.856952672745\n",
      "Max depth 9 with criterion of absolute_error\n",
      "average MAE: 978.4347504998001\n",
      "average RMSE: 2531.270137727804\n",
      "Max depth 9 with criterion of friedman_mse\n",
      "average MAE: 974.6359030898835\n",
      "average RMSE: 2490.6965725710093\n",
      "Max depth 9 with criterion of poisson\n",
      "average MAE: 972.5969124214218\n",
      "average RMSE: 2520.6008051722993\n"
     ]
    }
   ],
   "source": [
    "kf = KFold(n_splits=5)\n",
    "for d in [2,3,4,5,6,7,8,9]:\n",
    "    for c in ['squared_error', 'absolute_error', 'friedman_mse', 'poisson']:\n",
    "        MAES = []\n",
    "        RMSES = []\n",
    "        print(\"Max depth {} with criterion of {}\".format(d,c))\n",
    "        for i, (train_index, test_index) in enumerate(kf.split(case1_x)):\n",
    "            train_X = case3_x.loc[train_index]\n",
    "            train_y = case3_y.loc[train_index]\n",
    "            test_X = case3_x.loc[test_index]\n",
    "            test_y = case3_y.loc[test_index]\n",
    "            tree = RandomForestRegressor(max_depth = d,criterion = c)\n",
    "            tree.fit(train_X ,train_y)\n",
    "            pred = tree.predict(test_X)\n",
    "            MAES += [MAE(pred, test_y)]\n",
    "            RMSES += [RMSE(pred, test_y)]\n",
    "        print('average MAE: {}'.format(np.mean(MAES)))\n",
    "        print('average RMSE: {}'.format(np.mean(RMSES)))"
   ]
  },
  {
   "cell_type": "markdown",
   "metadata": {},
   "source": [
    "Case 4: Use City(one hot encoded), bedroom, and bathroom(filled) as a variable for random forest"
   ]
  },
  {
   "cell_type": "code",
   "execution_count": 35,
   "metadata": {},
   "outputs": [],
   "source": [
    "from sklearn.linear_model import LinearRegression"
   ]
  },
  {
   "cell_type": "code",
   "execution_count": 36,
   "metadata": {},
   "outputs": [],
   "source": [
    "case4_x = case3_x.copy()\n",
    "case4_y = case3_y.copy()"
   ]
  },
  {
   "cell_type": "code",
   "execution_count": 37,
   "metadata": {},
   "outputs": [
    {
     "data": {
      "text/plain": [
       "0.3801398244621842"
      ]
     },
     "execution_count": 37,
     "metadata": {},
     "output_type": "execute_result"
    }
   ],
   "source": [
    "reg = LinearRegression().fit(case4_x, case4_y)\n",
    "reg.score(case4_x, case4_y)"
   ]
  },
  {
   "cell_type": "code",
   "execution_count": 38,
   "metadata": {},
   "outputs": [
    {
     "name": "stdout",
     "output_type": "stream",
     "text": [
      "average MAE: 1511.5883166499993\n",
      "average RMSE: 3080.5864482467396\n"
     ]
    }
   ],
   "source": [
    "MAES = []\n",
    "RMSES = []\n",
    "for i, (train_index, test_index) in enumerate(kf.split(case1_x)):\n",
    "    train_X = case4_x.loc[train_index]\n",
    "    train_y = case4_y.loc[train_index]\n",
    "    test_X = case4_x.loc[test_index]\n",
    "    test_y = case4_y.loc[test_index]\n",
    "    reg = LinearRegression().fit(train_X ,train_y)\n",
    "    pred = reg.predict(test_X)\n",
    "    MAES += [MAE(pred, test_y)]\n",
    "    RMSES += [RMSE(pred, test_y)]\n",
    "print('average MAE: {}'.format(np.mean(MAES)))\n",
    "print('average RMSE: {}'.format(np.mean(RMSES)))"
   ]
  },
  {
   "cell_type": "markdown",
   "metadata": {},
   "source": [
    "Final model"
   ]
  },
  {
   "cell_type": "code",
   "execution_count": 25,
   "metadata": {},
   "outputs": [],
   "source": [
    "model = RandomForestRegressor(max_depth = 9,criterion = 'friedman_mse')"
   ]
  },
  {
   "cell_type": "code",
   "execution_count": 26,
   "metadata": {},
   "outputs": [
    {
     "name": "stdout",
     "output_type": "stream",
     "text": [
      "[array(['Bay Ho', 'Clairemont Mesa East', 'Clairemont Mesa West',\n",
      "       'Del Mar Heights', 'Kearny Mesa', 'La Jolla', 'Linda Vista',\n",
      "       'Mira Mesa', 'North Clairemont', 'Pacific Beach',\n",
      "       'Sorrento Valley', 'University City'], dtype=object)]\n"
     ]
    },
    {
     "data": {
      "text/html": [
       "<div>\n",
       "<style scoped>\n",
       "    .dataframe tbody tr th:only-of-type {\n",
       "        vertical-align: middle;\n",
       "    }\n",
       "\n",
       "    .dataframe tbody tr th {\n",
       "        vertical-align: top;\n",
       "    }\n",
       "\n",
       "    .dataframe thead th {\n",
       "        text-align: right;\n",
       "    }\n",
       "</style>\n",
       "<table border=\"1\" class=\"dataframe\">\n",
       "  <thead>\n",
       "    <tr style=\"text-align: right;\">\n",
       "      <th></th>\n",
       "      <th>bedroom</th>\n",
       "      <th>bathroom</th>\n",
       "      <th>Bay Ho</th>\n",
       "      <th>Clairemont Mesa East</th>\n",
       "      <th>Clairemont Mesa West</th>\n",
       "      <th>Del Mar Heights</th>\n",
       "      <th>Kearny Mesa</th>\n",
       "      <th>La Jolla</th>\n",
       "      <th>Linda Vista</th>\n",
       "      <th>Mira Mesa</th>\n",
       "      <th>North Clairemont</th>\n",
       "      <th>Pacific Beach</th>\n",
       "      <th>Sorrento Valley</th>\n",
       "      <th>University City</th>\n",
       "    </tr>\n",
       "  </thead>\n",
       "  <tbody>\n",
       "    <tr>\n",
       "      <th>0</th>\n",
       "      <td>1</td>\n",
       "      <td>1.0</td>\n",
       "      <td>0.0</td>\n",
       "      <td>0.0</td>\n",
       "      <td>0.0</td>\n",
       "      <td>0.0</td>\n",
       "      <td>0.0</td>\n",
       "      <td>1.0</td>\n",
       "      <td>0.0</td>\n",
       "      <td>0.0</td>\n",
       "      <td>0.0</td>\n",
       "      <td>0.0</td>\n",
       "      <td>0.0</td>\n",
       "      <td>0.0</td>\n",
       "    </tr>\n",
       "    <tr>\n",
       "      <th>1</th>\n",
       "      <td>1</td>\n",
       "      <td>1.0</td>\n",
       "      <td>0.0</td>\n",
       "      <td>0.0</td>\n",
       "      <td>0.0</td>\n",
       "      <td>0.0</td>\n",
       "      <td>0.0</td>\n",
       "      <td>1.0</td>\n",
       "      <td>0.0</td>\n",
       "      <td>0.0</td>\n",
       "      <td>0.0</td>\n",
       "      <td>0.0</td>\n",
       "      <td>0.0</td>\n",
       "      <td>0.0</td>\n",
       "    </tr>\n",
       "    <tr>\n",
       "      <th>2</th>\n",
       "      <td>2</td>\n",
       "      <td>1.5</td>\n",
       "      <td>0.0</td>\n",
       "      <td>0.0</td>\n",
       "      <td>0.0</td>\n",
       "      <td>0.0</td>\n",
       "      <td>0.0</td>\n",
       "      <td>1.0</td>\n",
       "      <td>0.0</td>\n",
       "      <td>0.0</td>\n",
       "      <td>0.0</td>\n",
       "      <td>0.0</td>\n",
       "      <td>0.0</td>\n",
       "      <td>0.0</td>\n",
       "    </tr>\n",
       "    <tr>\n",
       "      <th>3</th>\n",
       "      <td>1</td>\n",
       "      <td>1.0</td>\n",
       "      <td>0.0</td>\n",
       "      <td>0.0</td>\n",
       "      <td>0.0</td>\n",
       "      <td>0.0</td>\n",
       "      <td>0.0</td>\n",
       "      <td>1.0</td>\n",
       "      <td>0.0</td>\n",
       "      <td>0.0</td>\n",
       "      <td>0.0</td>\n",
       "      <td>0.0</td>\n",
       "      <td>0.0</td>\n",
       "      <td>0.0</td>\n",
       "    </tr>\n",
       "    <tr>\n",
       "      <th>4</th>\n",
       "      <td>1</td>\n",
       "      <td>1.0</td>\n",
       "      <td>0.0</td>\n",
       "      <td>0.0</td>\n",
       "      <td>0.0</td>\n",
       "      <td>0.0</td>\n",
       "      <td>0.0</td>\n",
       "      <td>1.0</td>\n",
       "      <td>0.0</td>\n",
       "      <td>0.0</td>\n",
       "      <td>0.0</td>\n",
       "      <td>0.0</td>\n",
       "      <td>0.0</td>\n",
       "      <td>0.0</td>\n",
       "    </tr>\n",
       "  </tbody>\n",
       "</table>\n",
       "</div>"
      ],
      "text/plain": [
       "   bedroom  bathroom  Bay Ho  Clairemont Mesa East  Clairemont Mesa West  \\\n",
       "0        1       1.0     0.0                   0.0                   0.0   \n",
       "1        1       1.0     0.0                   0.0                   0.0   \n",
       "2        2       1.5     0.0                   0.0                   0.0   \n",
       "3        1       1.0     0.0                   0.0                   0.0   \n",
       "4        1       1.0     0.0                   0.0                   0.0   \n",
       "\n",
       "   Del Mar Heights  Kearny Mesa  La Jolla  Linda Vista  Mira Mesa  \\\n",
       "0              0.0          0.0       1.0          0.0        0.0   \n",
       "1              0.0          0.0       1.0          0.0        0.0   \n",
       "2              0.0          0.0       1.0          0.0        0.0   \n",
       "3              0.0          0.0       1.0          0.0        0.0   \n",
       "4              0.0          0.0       1.0          0.0        0.0   \n",
       "\n",
       "   North Clairemont  Pacific Beach  Sorrento Valley  University City  \n",
       "0               0.0            0.0              0.0              0.0  \n",
       "1               0.0            0.0              0.0              0.0  \n",
       "2               0.0            0.0              0.0              0.0  \n",
       "3               0.0            0.0              0.0              0.0  \n",
       "4               0.0            0.0              0.0              0.0  "
      ]
     },
     "execution_count": 26,
     "metadata": {},
     "output_type": "execute_result"
    }
   ],
   "source": [
    "fin_data = bath_filled.drop(['address','type'],axis=1)\n",
    "Y = fin_data['price']\n",
    "X = fin_data.drop(['price'],axis=1)\n",
    "city_enc = OneHotEncoder(handle_unknown='ignore')\n",
    "city_enc.fit(fin_data[['city']])\n",
    "print(city_enc.categories_)\n",
    "city_coded = city_enc.transform(fin_data[['city']]).toarray()\n",
    "for i,c in enumerate(city_enc.categories_[0]):\n",
    "    X[c] = city_coded[:,i]\n",
    "X = X.drop(['city'],axis=1)\n",
    "X.head()"
   ]
  },
  {
   "cell_type": "code",
   "execution_count": 27,
   "metadata": {},
   "outputs": [
    {
     "name": "stdout",
     "output_type": "stream",
     "text": [
      "1442.6141367742641\n",
      "647.0095868440447\n"
     ]
    }
   ],
   "source": [
    "model.fit(X ,Y)\n",
    "pred = model.predict(X)\n",
    "print(RMSE(pred, Y))\n",
    "print(MAE(pred, Y))"
   ]
  },
  {
   "cell_type": "code",
   "execution_count": 28,
   "metadata": {},
   "outputs": [
    {
     "data": {
      "text/plain": [
       "3192.445791631228"
      ]
     },
     "execution_count": 28,
     "metadata": {},
     "output_type": "execute_result"
    }
   ],
   "source": [
    "pred[0]"
   ]
  },
  {
   "cell_type": "code",
   "execution_count": null,
   "metadata": {},
   "outputs": [],
   "source": []
  }
 ],
 "metadata": {
  "kernelspec": {
   "display_name": "ucsd_rent",
   "language": "python",
   "name": "python3"
  },
  "language_info": {
   "codemirror_mode": {
    "name": "ipython",
    "version": 3
   },
   "file_extension": ".py",
   "mimetype": "text/x-python",
   "name": "python",
   "nbconvert_exporter": "python",
   "pygments_lexer": "ipython3",
   "version": "3.9.19"
  }
 },
 "nbformat": 4,
 "nbformat_minor": 2
}
