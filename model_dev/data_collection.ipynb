{
 "cells": [
  {
   "cell_type": "code",
   "execution_count": 1,
   "metadata": {},
   "outputs": [],
   "source": [
    "import requests\n",
    "import os\n",
    "from dotenv import load_dotenv\n",
    "import sys\n",
    "import json\n",
    "import pandas as pd \n",
    "import numpy as np\n",
    "\n",
    "sys.path.append(\"../\")\n",
    "load_dotenv()\n",
    "key = os.environ.get(\"KEY\")\n",
    "\n",
    "url = \"https://zillow-com4.p.rapidapi.com/v2/properties/search-for-rent\""
   ]
  },
  {
   "cell_type": "code",
   "execution_count": 3,
   "metadata": {},
   "outputs": [],
   "source": [
    "citys = ['La Jolla', \n",
    "         'University City', \n",
    "         'Clairemont Mesa West', \n",
    "         'Clairemont Mesa East',\n",
    "            'North Clairemont',\n",
    "         'Sorrento Valley', \n",
    "         'Mira Mesa', \n",
    "         'Kearny Mesa', \n",
    "         'Pacific Beach',\n",
    "         'Bay Ho',\n",
    "         \"Del Mar Heights\",\n",
    "         \"Linda Vista\"]"
   ]
  },
  {
   "cell_type": "code",
   "execution_count": 131,
   "metadata": {},
   "outputs": [],
   "source": [
    "datas = {}\n",
    "jsons = {}\n",
    "for c in citys:\n",
    "\tloc = c + \", San Diego, CA\"\n",
    "\tpayload = { \"location\": loc}\n",
    "\theaders = {\n",
    "\t\t\"content-type\": \"application/json\",\n",
    "\t\t\"X-RapidAPI-Key\": \"82aac7b40fmshe040a3f42be54a2p123dccjsn705f8900448c\",\n",
    "\t\t\"X-RapidAPI-Host\": \"zillow-com4.p.rapidapi.com\"\n",
    "\t}\n",
    "\n",
    "\tresponse = requests.post(url, json=payload, headers=headers)\n",
    "\tjsons[c] = response.json()\n",
    "\tdatas[c] = response.json()['data']"
   ]
  },
  {
   "cell_type": "code",
   "execution_count": 132,
   "metadata": {},
   "outputs": [],
   "source": [
    "for k in citys:\n",
    "    with open('data/'+k+'.json', 'w') as f:\n",
    "        json.dump(jsons[k], f)\n"
   ]
  },
  {
   "cell_type": "code",
   "execution_count": 4,
   "metadata": {},
   "outputs": [],
   "source": [
    "#data retrieve\n",
    "datas ={}\n",
    "for c in citys:\n",
    "    f = open('data/'+c+'.json', 'r')\n",
    "    datas[c] = json.load(f)['data']\n",
    "    f.close()"
   ]
  },
  {
   "cell_type": "code",
   "execution_count": 5,
   "metadata": {},
   "outputs": [],
   "source": [
    "fin_data = pd.DataFrame()\n",
    "for c in citys:   \n",
    "    temp = datas[c]\n",
    "    temp = [i['property'] for i in temp]\n",
    "    pre_df = {\n",
    "        'address': [],\n",
    "        'city':[],\n",
    "        'type':[],\n",
    "        'bedroom':[],\n",
    "        'bathroom':[],\n",
    "        'price':[]\n",
    "    }\n",
    "    for r in temp:\n",
    "        if 'bathrooms' in r:\n",
    "            pre_df['address'] += [r['address']['streetAddress']]\n",
    "            pre_df['city'] += [c]\n",
    "            if 'groupType' in r:\n",
    "                pre_df['type'] += [r['groupType']]\n",
    "            else:\n",
    "                pre_df['type'] += [np.nan]\n",
    "            pre_df['bathroom'] += [r['bathrooms']]\n",
    "            pre_df['bedroom'] += [r['bedrooms']]\n",
    "            pre_df['price'] += [r['price']['value']]\n",
    "        else:\n",
    "            for unit in r['unitsGroup']:\n",
    "                pre_df['address'] += [r['address']['streetAddress']]\n",
    "                pre_df['city'] += [c]\n",
    "                if 'groupType' in r:\n",
    "                    pre_df['type'] += [r['groupType']]\n",
    "                else:\n",
    "                    pre_df['type'] += [np.nan]\n",
    "                pre_df['bathroom'] += [np.nan]\n",
    "                pre_df['bedroom'] += [unit['bedrooms']]\n",
    "                pre_df['price'] += [unit['minPrice']]\n",
    "    df = pd.DataFrame(pre_df)\n",
    "    fin_data = pd.concat([fin_data,df])\n"
   ]
  },
  {
   "cell_type": "code",
   "execution_count": 8,
   "metadata": {},
   "outputs": [],
   "source": [
    "fin_data.to_csv('data/combined_data.csv',index=False)"
   ]
  },
  {
   "cell_type": "code",
   "execution_count": null,
   "metadata": {},
   "outputs": [],
   "source": []
  }
 ],
 "metadata": {
  "kernelspec": {
   "display_name": "ucsd_rent",
   "language": "python",
   "name": "python3"
  },
  "language_info": {
   "codemirror_mode": {
    "name": "ipython",
    "version": 3
   },
   "file_extension": ".py",
   "mimetype": "text/x-python",
   "name": "python",
   "nbconvert_exporter": "python",
   "pygments_lexer": "ipython3",
   "version": "3.9.19"
  }
 },
 "nbformat": 4,
 "nbformat_minor": 2
}
